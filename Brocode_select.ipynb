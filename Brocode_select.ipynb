{
 "cells": [
  {
   "cell_type": "code",
   "execution_count": 1,
   "id": "b3b4c5f4-382d-4f8c-8fe2-e5af76532ec0",
   "metadata": {},
   "outputs": [],
   "source": [
    "import numpy as np\n",
    "import pandas as pd\n",
    "import tqdm\n",
    "import barcodes_select"
   ]
  },
  {
   "cell_type": "markdown",
   "id": "21f47b50-39fa-47a2-93a1-fa93d5a173aa",
   "metadata": {},
   "source": [
    "If the error rate is 2% and the length of a barcode is 9bp, we will be able to detect 97.39% of the data."
   ]
  },
  {
   "cell_type": "code",
   "execution_count": 10,
   "id": "c7d1621c-8176-40e6-9233-5c6aaf7ba193",
   "metadata": {},
   "outputs": [
    {
     "data": {
      "text/plain": [
       "0.9739422128292623"
      ]
     },
     "execution_count": 10,
     "metadata": {},
     "output_type": "execute_result"
    }
   ],
   "source": [
    "from scipy.stats import binom\n",
    "binom.cdf(1, 9, 0.02)**2"
   ]
  },
  {
   "cell_type": "markdown",
   "id": "ef0470aa-de78-4fee-bf1d-49513ab4e0e6",
   "metadata": {},
   "source": [
    "Read potential barcodes as list."
   ]
  },
  {
   "cell_type": "code",
   "execution_count": 3,
   "id": "10177129-bf56-454e-94c3-2c42bcba61df",
   "metadata": {},
   "outputs": [],
   "source": [
    "from functools import reduce\n",
    "\n",
    "ini_lista = pd.read_csv('indexa.csv',header = None).values.tolist()\n",
    "indexa = reduce(lambda z, y :z + y, ini_lista)\n",
    "indexa = [x for x in indexa if str(x) != 'nan']\n",
    " \n",
    "ini_listb = pd.read_csv('indexb.csv',header = None).values.tolist()\n",
    "indexb = reduce(lambda z, y :z + y, ini_listb)"
   ]
  },
  {
   "cell_type": "markdown",
   "id": "c227b26c-1427-45fd-a7a2-7d13786fbf20",
   "metadata": {},
   "source": [
    "Accurancy array. Got from [here](https://doi.org/10.1101/2023.03.29.534691) in nanopore direct RNA sequencing. Accuracy for R10.4 should be much hiher.\n",
    "\n",
    "The array is a 4*4 probability matrix. The row should be original ’ATCG‘ and the called ’ATCG‘."
   ]
  },
  {
   "cell_type": "code",
   "execution_count": 4,
   "id": "f9c34e9f-3b27-45ea-a40e-c8e99e524761",
   "metadata": {},
   "outputs": [
    {
     "data": {
      "text/plain": [
       "(array([0.95 , 0.928, 0.933, 0.968]), array([0.965, 0.934, 0.92 , 0.96 ]))"
      ]
     },
     "execution_count": 4,
     "metadata": {},
     "output_type": "execute_result"
    }
   ],
   "source": [
    "accurancy = np.array([[0.923, 0.013, 0.004, 0.010],\n",
    "                         [0.016, 0.887, 0.021, 0.004],\n",
    "                         [0.009, 0.029, 0.893, 0.002],\n",
    "                         [0.017, 0.005, 0.002, 0.944],\n",
    "                        ])\n",
    "accurancy.sum(axis = 1),accurancy.sum(axis = 0)"
   ]
  },
  {
   "cell_type": "markdown",
   "id": "078e5447-0f99-4684-ba53-f072c6ab1a7b",
   "metadata": {},
   "source": [
    "We define a barcode class here, imputs are barcodelist, barcode_num (target barcode number), tolerance (the number of error tolerance, normally 1), accurancy_matrix."
   ]
  },
  {
   "cell_type": "code",
   "execution_count": 5,
   "id": "0134713c-903e-42f2-b02b-e088d801e78e",
   "metadata": {},
   "outputs": [
    {
     "name": "stderr",
     "output_type": "stream",
     "text": [
      "100%|██████████| 384/384 [04:58<00:00,  1.29it/s]\n"
     ]
    }
   ],
   "source": [
    "barb = barcodes_select.Barcodes(indexb, barcode_num = 50, tolerance = 1, accurancy_matrix = accurancy)"
   ]
  },
  {
   "cell_type": "markdown",
   "id": "ae6e5612-4435-4c67-a751-031d8cc694f3",
   "metadata": {},
   "source": [
    "Final result"
   ]
  },
  {
   "cell_type": "code",
   "execution_count": 6,
   "id": "76e8376c-9749-494e-9e99-7d20ec903f57",
   "metadata": {},
   "outputs": [
    {
     "data": {
      "text/plain": [
       "array(['AAACCATAG', 'AGAGCATGT', 'ATGGTAACT', 'AAGTACGTT', 'CGACGATAT',\n",
       "       'TAGAGAGTA', 'TCAAGATCT', 'ATACTACTC', 'CATCAACGT', 'TGCCTATTA',\n",
       "       'ACAACCTAT', 'AATACCGAA', 'ATTCCTAGA', 'ACAGGTATT', 'ACTGAATAC',\n",
       "       'AAGGATATG', 'TAGCCAATT', 'GGTACGGAT', 'GTAAGGAGT', 'ATTCGCAAT',\n",
       "       'CCTGCAGTT', 'TCGTTCTGT', 'AACGATCAT', 'TGGTTGAAT', 'ATCAATACG',\n",
       "       'CTGAGCATT', 'AACTAGTTG', 'ACATGGTAA', 'TGAATCTGA', 'ACTTATGGT',\n",
       "       'GTATCGCAT', 'TCAGTTGGT', 'TCTAGGAAT', 'GGACTTGAT', 'CAACTCTCT',\n",
       "       'TATAAGAGG', 'AACGTAATC', 'TAGAACCAA', 'TGTTAAGAC', 'TATCATGAG',\n",
       "       'CTGATAGGT', 'ACCTCAATA', 'AGAAGTAAG', 'GTCGGAGTT', 'TTATAGGCA',\n",
       "       'GAGACTAGT', 'GAGGAACTT', 'AGTTAACCA', 'TGAGAATCA', 'TTCCATTAC'],\n",
       "      dtype='<U9')"
      ]
     },
     "execution_count": 6,
     "metadata": {},
     "output_type": "execute_result"
    }
   ],
   "source": [
    "barb.prob_barcodes()"
   ]
  },
  {
   "cell_type": "markdown",
   "id": "78865345-7f1b-40fc-b75f-bfdf8b85ca50",
   "metadata": {},
   "source": [
    "The largest probability for one barcode match to another."
   ]
  },
  {
   "cell_type": "code",
   "execution_count": 7,
   "id": "fd6de3b3-febd-4667-9d63-023e48378492",
   "metadata": {},
   "outputs": [
    {
     "data": {
      "text/plain": [
       "1.5993734430403105e-08"
      ]
     },
     "execution_count": 7,
     "metadata": {},
     "output_type": "execute_result"
    }
   ],
   "source": [
    "barb.final_prob_matirx.max()"
   ]
  },
  {
   "cell_type": "markdown",
   "id": "5c42c7b0-c914-4aad-bb8c-0aa07cd6253f",
   "metadata": {},
   "source": [
    "Do the same stuff for 12 target barcodes."
   ]
  },
  {
   "cell_type": "code",
   "execution_count": 8,
   "id": "70d1d383-d7e1-4ba5-b3a5-15a4922fbc2d",
   "metadata": {},
   "outputs": [
    {
     "name": "stderr",
     "output_type": "stream",
     "text": [
      "100%|██████████| 384/384 [05:02<00:00,  1.27it/s]\n"
     ]
    },
    {
     "name": "stdout",
     "output_type": "stream",
     "text": [
      "['AAACCATAG' 'TAGAGAGTA' 'AATACCGAA' 'ATTCGCAAT' 'TGGTTGAAT' 'ACATGGTAA'\n",
      " 'TATAAGAGG' 'AACGTAATC' 'AGAAGTAAG' 'GAGACTAGT' 'TGAGAATCA' 'TTCCATTAC']\n",
      "4.959724692001997e-11\n"
     ]
    }
   ],
   "source": [
    "barb12 = barcodes_select.Barcodes(indexb, barcode_num = 12, tolerance = 1, accurancy_matrix = accurancy)\n",
    "print(barb12.prob_barcodes())\n",
    "print(barb12.final_prob_matirx.max())"
   ]
  },
  {
   "cell_type": "markdown",
   "id": "72e15891-62a1-4523-b349-b2e8afa63dbe",
   "metadata": {},
   "source": [
    "Do the same stuff for 50 target barcodes in the first round."
   ]
  },
  {
   "cell_type": "code",
   "execution_count": 9,
   "id": "d535082a-30f5-4490-b289-9bf3ed17db2a",
   "metadata": {},
   "outputs": [
    {
     "name": "stderr",
     "output_type": "stream",
     "text": [
      "100%|██████████| 96/96 [00:24<00:00,  3.91it/s]"
     ]
    },
    {
     "name": "stdout",
     "output_type": "stream",
     "text": [
      "['GCGTTGGAGC' 'GATCTTACGC' 'CCGAGAATCC' 'GCCGCAACGA' 'TGCGGACCTA'\n",
      " 'ACGGAGGCGG' 'TTATTCATTC' 'AGAGCTATAA' 'CTAAGAGAAG' 'GGTACTGCCT'\n",
      " 'TGCCGGCAGA' 'TTACCGAGGC' 'ACTATGCAAT' 'CGACGCGACT' 'GATACGGAAC'\n",
      " 'TAGAGTAATA' 'TCGGCCTTAC' 'AGAACGTCTC' 'ACTTAACCTT' 'GAAGATCGAG'\n",
      " 'AAGAAGCTAG' 'TCCGGCCTCG' 'AGAGAAGGTT' 'GCTAACTTGC' 'GGCTGAGCTC'\n",
      " 'ATAAGGAGCA' 'GGTATGCTTG' 'TAGCCGTCAT' 'CTAGTAGTCT' 'AACTAGGCGC'\n",
      " 'TCGCTAAGCA' 'TATATACTAA' 'AACCATTGGA' 'TCGCGGTTGG' 'CGTAGTTACC'\n",
      " 'AATCGATAAT' 'CCATTATCTA' 'TCAACGTAAG' 'CTAACTAGAT' 'CATTCAATCA'\n",
      " 'ATCGGCTATC' 'GGAGGATAGC' 'GGCTCTCTAT' 'CGCTCCTAAC' 'TCTTGCCGAC'\n",
      " 'AGGTTAGCAT' 'TTCGCCTCCA' 'CATCTCTGCA' 'ACCTGGCCAA' 'TAACTGGTTA']\n",
      "8.257759737968713e-10\n"
     ]
    },
    {
     "name": "stderr",
     "output_type": "stream",
     "text": [
      "\n"
     ]
    }
   ],
   "source": [
    "bara = barcodes_select.Barcodes(indexa, barcode_num = 50, tolerance = 1, accurancy_matrix = accurancy)\n",
    "print(bara.prob_barcodes())\n",
    "print(bara.final_prob_matirx.max())"
   ]
  }
 ],
 "metadata": {
  "kernelspec": {
   "display_name": "Python 3 (ipykernel)",
   "language": "python",
   "name": "python3"
  },
  "language_info": {
   "codemirror_mode": {
    "name": "ipython",
    "version": 3
   },
   "file_extension": ".py",
   "mimetype": "text/x-python",
   "name": "python",
   "nbconvert_exporter": "python",
   "pygments_lexer": "ipython3",
   "version": "3.9.15"
  }
 },
 "nbformat": 4,
 "nbformat_minor": 5
}
